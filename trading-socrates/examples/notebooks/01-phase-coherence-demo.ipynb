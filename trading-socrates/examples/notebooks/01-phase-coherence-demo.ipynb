# Jupyter Notebook: Phase Coherence Demo
